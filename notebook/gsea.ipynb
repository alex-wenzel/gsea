{
 "cells": [
  {
   "cell_type": "code",
   "execution_count": null,
   "metadata": {
    "ExecuteTime": {
     "end_time": "2017-12-08T04:10:46.313743Z",
     "start_time": "2017-12-08T04:10:45.685664Z"
    }
   },
   "outputs": [],
   "source": [
    "import pandas as pd\n",
    "\n",
    "import sys\n",
    "sys.path.insert(0, '..')\n",
    "\n",
    "from gsea.single_sample_gsea import single_sample_gsea\n",
    "from gsea.single_sample_gseas import single_sample_gseas\n",
    "from gsea.gsea import gsea\n",
    "\n",
    "%load_ext autoreload\n",
    "%autoreload 2\n",
    "%matplotlib inline"
   ]
  },
  {
   "cell_type": "code",
   "execution_count": null,
   "metadata": {
    "ExecuteTime": {
     "end_time": "2017-12-08T04:10:46.522626Z",
     "start_time": "2017-12-08T04:10:46.315789Z"
    },
    "scrolled": false
   },
   "outputs": [],
   "source": [
    "# Read gene-x-sample\n",
    "\n",
    "gene_x_sample = pd.read_table('gene_x_sample.tsv', index_col=0)\n",
    "\n",
    "gene_x_sample"
   ]
  },
  {
   "cell_type": "code",
   "execution_count": null,
   "metadata": {
    "scrolled": false
   },
   "outputs": [],
   "source": [
    "# Read gene sets\n",
    "\n",
    "gene_sets = pd.read_table('gene_sets.tsv', index_col=0)\n",
    "\n",
    "gene_sets"
   ]
  },
  {
   "cell_type": "code",
   "execution_count": null,
   "metadata": {},
   "outputs": [],
   "source": [
    "# Run single-sample GSEA (1 sample & 1 gene set) (== pre-rank GSEA)\n",
    "\n",
    "score = single_sample_gsea(\n",
    "    gene_x_sample.iloc[:, 0],\n",
    "    gene_sets.iloc[0],\n",
    "    normalization_method='rank',\n",
    "    power=1,\n",
    "    statistic='ks',\n",
    "    plot=True,\n",
    "    plot_file_path='mountain_plot.png')"
   ]
  },
  {
   "cell_type": "code",
   "execution_count": null,
   "metadata": {
    "ExecuteTime": {
     "end_time": "2017-12-08T04:10:47.145699Z",
     "start_time": "2017-12-08T04:10:46.630593Z"
    }
   },
   "outputs": [],
   "source": [
    "# Run single-sample GSEA (1 <= sample & 1 <= gene set)\n",
    "\n",
    "score__gene_set_x_sample = single_sample_gseas(\n",
    "    gene_x_sample,\n",
    "    gene_sets,\n",
    "    normalization_method='rank',\n",
    "    power=1,\n",
    "    statistic='ks',\n",
    "    file_path='gene_set_x_sample.tsv')\n",
    "\n",
    "score__gene_set_x_sample"
   ]
  },
  {
   "cell_type": "code",
   "execution_count": null,
   "metadata": {
    "scrolled": false
   },
   "outputs": [],
   "source": [
    "# Run single-sample GSEA (1 <= sample & 1 <= gene set)\n",
    "\n",
    "gene_set_score, gene_set_p_value = gsea(\n",
    "    gene_x_sample, ('C',) * 3 + ('VS',) * 3,\n",
    "    gene_sets,\n",
    "    method='log_ratio',\n",
    "    normalization_method='rank',\n",
    "    power=1,\n",
    "    statistic='ks',\n",
    "    n_permutation=3,\n",
    "    permuting='phenotype')"
   ]
  }
 ],
 "metadata": {
  "kernelspec": {
   "display_name": "Python [default]",
   "language": "python",
   "name": "python3"
  },
  "language_info": {
   "codemirror_mode": {
    "name": "ipython",
    "version": 3
   },
   "file_extension": ".py",
   "mimetype": "text/x-python",
   "name": "python",
   "nbconvert_exporter": "python",
   "pygments_lexer": "ipython3",
   "version": "3.6.3"
  }
 },
 "nbformat": 4,
 "nbformat_minor": 2
}
