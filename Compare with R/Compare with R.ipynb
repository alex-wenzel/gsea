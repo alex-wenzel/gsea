{
 "cells": [
  {
   "cell_type": "code",
   "execution_count": 1,
   "metadata": {
    "ExecuteTime": {
     "end_time": "2017-05-24T20:06:17.678511Z",
     "start_time": "2017-05-24T20:06:16.421893Z"
    }
   },
   "outputs": [],
   "source": [
    "import sys\n",
    "sys.path.insert(0, '/home/k/Jumis/tools/')\n",
    "from gsea.gsea import gsea\n",
    "from file.file import gct, gmt\n",
    "from plot.plot import plot\n",
    "\n",
    "%load_ext autoreload\n",
    "%autoreload 2\n",
    "%matplotlib inline"
   ]
  },
  {
   "cell_type": "code",
   "execution_count": 2,
   "metadata": {
    "ExecuteTime": {
     "end_time": "2017-05-24T20:06:17.845125Z",
     "start_time": "2017-05-24T20:06:17.680449Z"
    },
    "scrolled": true
   },
   "outputs": [
    {
     "name": "stdout",
     "output_type": "stream",
     "text": [
      "(38293, 10)\n"
     ]
    }
   ],
   "source": [
    "gene_x_sample = gct.read_gct('./kras_isogenic_vs_imortalized.gct')\n",
    "print(gene_x_sample.shape)\n",
    "# gene_x_sample"
   ]
  },
  {
   "cell_type": "code",
   "execution_count": 3,
   "metadata": {
    "ExecuteTime": {
     "end_time": "2017-05-24T20:06:21.243141Z",
     "start_time": "2017-05-24T20:06:18.483030Z"
    }
   },
   "outputs": [
    {
     "name": "stdout",
     "output_type": "stream",
     "text": [
      "(5, 1972)\n"
     ]
    }
   ],
   "source": [
    "gene_sets = gmt.read_gmts('./c2.all.v5.1.symbols.gmt')\n",
    "gene_sets = gene_sets.iloc[:5]\n",
    "print(gene_sets.shape)\n",
    "# gene_sets"
   ]
  },
  {
   "cell_type": "code",
   "execution_count": 4,
   "metadata": {
    "ExecuteTime": {
     "end_time": "2017-05-24T20:06:22.890701Z",
     "start_time": "2017-05-24T20:06:21.668235Z"
    },
    "scrolled": true
   },
   "outputs": [
    {
     "data": {
      "text/html": [
       "<div>\n",
       "<table border=\"1\" class=\"dataframe\">\n",
       "  <thead>\n",
       "    <tr style=\"text-align: right;\">\n",
       "      <th></th>\n",
       "      <th>SLK1_1</th>\n",
       "      <th>SLK2_1</th>\n",
       "      <th>SLK1PU_1</th>\n",
       "      <th>SLK2PU_1</th>\n",
       "      <th>SLKP1_1</th>\n",
       "      <th>SLKP2_1</th>\n",
       "      <th>SLG1_1</th>\n",
       "      <th>SLG2_1</th>\n",
       "      <th>SLGP1_1</th>\n",
       "      <th>SLGP2_1</th>\n",
       "    </tr>\n",
       "    <tr>\n",
       "      <th>Gene Set</th>\n",
       "      <th></th>\n",
       "      <th></th>\n",
       "      <th></th>\n",
       "      <th></th>\n",
       "      <th></th>\n",
       "      <th></th>\n",
       "      <th></th>\n",
       "      <th></th>\n",
       "      <th></th>\n",
       "      <th></th>\n",
       "    </tr>\n",
       "  </thead>\n",
       "  <tbody>\n",
       "    <tr>\n",
       "      <th>ABBUD_LIF_SIGNALING_1_DN</th>\n",
       "      <td>11296.958736</td>\n",
       "      <td>11319.350021</td>\n",
       "      <td>11187.401029</td>\n",
       "      <td>11148.534230</td>\n",
       "      <td>11404.438487</td>\n",
       "      <td>11255.946327</td>\n",
       "      <td>11666.559638</td>\n",
       "      <td>11510.738478</td>\n",
       "      <td>11324.178560</td>\n",
       "      <td>11575.817188</td>\n",
       "    </tr>\n",
       "    <tr>\n",
       "      <th>ABBUD_LIF_SIGNALING_1_UP</th>\n",
       "      <td>10260.223271</td>\n",
       "      <td>10671.536315</td>\n",
       "      <td>9787.968519</td>\n",
       "      <td>9822.526542</td>\n",
       "      <td>10242.676918</td>\n",
       "      <td>10122.667223</td>\n",
       "      <td>10805.735919</td>\n",
       "      <td>10703.146655</td>\n",
       "      <td>9951.537551</td>\n",
       "      <td>9904.754107</td>\n",
       "    </tr>\n",
       "    <tr>\n",
       "      <th>ABBUD_LIF_SIGNALING_2_DN</th>\n",
       "      <td>6748.811166</td>\n",
       "      <td>6737.904183</td>\n",
       "      <td>5367.490683</td>\n",
       "      <td>5075.978238</td>\n",
       "      <td>5263.911576</td>\n",
       "      <td>5184.258795</td>\n",
       "      <td>7415.479879</td>\n",
       "      <td>6648.855834</td>\n",
       "      <td>6728.821100</td>\n",
       "      <td>6747.024721</td>\n",
       "    </tr>\n",
       "    <tr>\n",
       "      <th>ABBUD_LIF_SIGNALING_2_UP</th>\n",
       "      <td>9334.554604</td>\n",
       "      <td>9122.603341</td>\n",
       "      <td>9262.035799</td>\n",
       "      <td>9128.048593</td>\n",
       "      <td>9677.697358</td>\n",
       "      <td>9719.623724</td>\n",
       "      <td>9494.582366</td>\n",
       "      <td>9404.715746</td>\n",
       "      <td>8826.064860</td>\n",
       "      <td>8791.424235</td>\n",
       "    </tr>\n",
       "    <tr>\n",
       "      <th>ABDELMOHSEN_ELAVL4_TARGETS</th>\n",
       "      <td>14069.407640</td>\n",
       "      <td>13876.430071</td>\n",
       "      <td>14397.481078</td>\n",
       "      <td>14421.906012</td>\n",
       "      <td>14150.731713</td>\n",
       "      <td>14032.112079</td>\n",
       "      <td>13793.705371</td>\n",
       "      <td>13823.729172</td>\n",
       "      <td>14359.559090</td>\n",
       "      <td>14394.165244</td>\n",
       "    </tr>\n",
       "  </tbody>\n",
       "</table>\n",
       "</div>"
      ],
      "text/plain": [
       "                                  SLK1_1        SLK2_1      SLK1PU_1  \\\n",
       "Gene Set                                                               \n",
       "ABBUD_LIF_SIGNALING_1_DN    11296.958736  11319.350021  11187.401029   \n",
       "ABBUD_LIF_SIGNALING_1_UP    10260.223271  10671.536315   9787.968519   \n",
       "ABBUD_LIF_SIGNALING_2_DN     6748.811166   6737.904183   5367.490683   \n",
       "ABBUD_LIF_SIGNALING_2_UP     9334.554604   9122.603341   9262.035799   \n",
       "ABDELMOHSEN_ELAVL4_TARGETS  14069.407640  13876.430071  14397.481078   \n",
       "\n",
       "                                SLK2PU_1       SLKP1_1       SLKP2_1  \\\n",
       "Gene Set                                                               \n",
       "ABBUD_LIF_SIGNALING_1_DN    11148.534230  11404.438487  11255.946327   \n",
       "ABBUD_LIF_SIGNALING_1_UP     9822.526542  10242.676918  10122.667223   \n",
       "ABBUD_LIF_SIGNALING_2_DN     5075.978238   5263.911576   5184.258795   \n",
       "ABBUD_LIF_SIGNALING_2_UP     9128.048593   9677.697358   9719.623724   \n",
       "ABDELMOHSEN_ELAVL4_TARGETS  14421.906012  14150.731713  14032.112079   \n",
       "\n",
       "                                  SLG1_1        SLG2_1       SLGP1_1  \\\n",
       "Gene Set                                                               \n",
       "ABBUD_LIF_SIGNALING_1_DN    11666.559638  11510.738478  11324.178560   \n",
       "ABBUD_LIF_SIGNALING_1_UP    10805.735919  10703.146655   9951.537551   \n",
       "ABBUD_LIF_SIGNALING_2_DN     7415.479879   6648.855834   6728.821100   \n",
       "ABBUD_LIF_SIGNALING_2_UP     9494.582366   9404.715746   8826.064860   \n",
       "ABDELMOHSEN_ELAVL4_TARGETS  13793.705371  13823.729172  14359.559090   \n",
       "\n",
       "                                 SLGP2_1  \n",
       "Gene Set                                  \n",
       "ABBUD_LIF_SIGNALING_1_DN    11575.817188  \n",
       "ABBUD_LIF_SIGNALING_1_UP     9904.754107  \n",
       "ABBUD_LIF_SIGNALING_2_DN     6747.024721  \n",
       "ABBUD_LIF_SIGNALING_2_UP     8791.424235  \n",
       "ABDELMOHSEN_ELAVL4_TARGETS  14394.165244  "
      ]
     },
     "execution_count": 4,
     "metadata": {},
     "output_type": "execute_result"
    },
    {
     "data": {
      "image/png": "[encoded data removed]",
      "text/plain": [
       "<matplotlib.figure.Figure at 0x7fe5bf486908>"
      ]
     },
     "metadata": {},
     "output_type": "display_data"
    },
    {
     "data": {
      "image/png": "[encoded data removed]",
      "text/plain": [
       "<matplotlib.figure.Figure at 0x7fe5beeffa58>"
      ]
     },
     "metadata": {},
     "output_type": "display_data"
    }
   ],
   "source": [
    "gene_set_x_sample_pablo = gct.read_gct('./kras_isogenic_vs_imortalized.ssGSEA.test.gct')\n",
    "gene_set_x_sample_pablo = gene_set_x_sample_pablo.ix[gene_sets.index, :]\n",
    "plot.plot_heatmap(gene_set_x_sample_pablo, normalization_method='-0-', normalization_axis=0)\n",
    "plot.plot_heatmap(gene_set_x_sample_pablo, normalization_method='-0-', normalization_axis=1)\n",
    "gene_set_x_sample_pablo"
   ]
  },
  {
   "cell_type": "code",
   "execution_count": 10,
   "metadata": {
    "ExecuteTime": {
     "end_time": "2017-05-24T20:08:28.649581Z",
     "start_time": "2017-05-24T20:08:24.896281Z"
    },
    "scrolled": false
   },
   "outputs": [
    {
     "name": "stdout",
     "output_type": "stream",
     "text": [
      "Computing ABBUD_LIF_SIGNALING_1_DN enrichment ...\n",
      "Computing ABBUD_LIF_SIGNALING_1_UP enrichment ...\n",
      "Computing ABBUD_LIF_SIGNALING_2_DN enrichment ...\n",
      "Computing ABBUD_LIF_SIGNALING_2_UP enrichment ...\n",
      "Computing ABDELMOHSEN_ELAVL4_TARGETS enrichment ...\n"
     ]
    },
    {
     "data": {
      "text/html": [
       "<div>\n",
       "<table border=\"1\" class=\"dataframe\">\n",
       "  <thead>\n",
       "    <tr style=\"text-align: right;\">\n",
       "      <th></th>\n",
       "      <th>SLK1_1</th>\n",
       "      <th>SLK2_1</th>\n",
       "      <th>SLK1PU_1</th>\n",
       "      <th>SLK2PU_1</th>\n",
       "      <th>SLKP1_1</th>\n",
       "      <th>SLKP2_1</th>\n",
       "      <th>SLG1_1</th>\n",
       "      <th>SLG2_1</th>\n",
       "      <th>SLGP1_1</th>\n",
       "      <th>SLGP2_1</th>\n",
       "    </tr>\n",
       "    <tr>\n",
       "      <th>Gene Set</th>\n",
       "      <th></th>\n",
       "      <th></th>\n",
       "      <th></th>\n",
       "      <th></th>\n",
       "      <th></th>\n",
       "      <th></th>\n",
       "      <th></th>\n",
       "      <th></th>\n",
       "      <th></th>\n",
       "      <th></th>\n",
       "    </tr>\n",
       "  </thead>\n",
       "  <tbody>\n",
       "    <tr>\n",
       "      <th>ABBUD_LIF_SIGNALING_1_DN</th>\n",
       "      <td>14672.310878</td>\n",
       "      <td>14146.353955</td>\n",
       "      <td>13966.647717</td>\n",
       "      <td>14202.871803</td>\n",
       "      <td>14486.132267</td>\n",
       "      <td>14459.425753</td>\n",
       "      <td>14714.850979</td>\n",
       "      <td>14507.147983</td>\n",
       "      <td>14618.173382</td>\n",
       "      <td>14507.758711</td>\n",
       "    </tr>\n",
       "    <tr>\n",
       "      <th>ABBUD_LIF_SIGNALING_1_UP</th>\n",
       "      <td>13826.276157</td>\n",
       "      <td>13741.370512</td>\n",
       "      <td>13293.602837</td>\n",
       "      <td>13490.639202</td>\n",
       "      <td>13848.283991</td>\n",
       "      <td>13585.653482</td>\n",
       "      <td>14111.374736</td>\n",
       "      <td>13889.752153</td>\n",
       "      <td>13700.706049</td>\n",
       "      <td>13698.027680</td>\n",
       "    </tr>\n",
       "    <tr>\n",
       "      <th>ABBUD_LIF_SIGNALING_2_DN</th>\n",
       "      <td>11874.703814</td>\n",
       "      <td>11529.298048</td>\n",
       "      <td>8503.912597</td>\n",
       "      <td>8741.274058</td>\n",
       "      <td>9896.068191</td>\n",
       "      <td>9680.590899</td>\n",
       "      <td>11481.178243</td>\n",
       "      <td>11386.075728</td>\n",
       "      <td>11501.868586</td>\n",
       "      <td>11534.150536</td>\n",
       "    </tr>\n",
       "    <tr>\n",
       "      <th>ABBUD_LIF_SIGNALING_2_UP</th>\n",
       "      <td>14333.662019</td>\n",
       "      <td>13730.503245</td>\n",
       "      <td>14195.153702</td>\n",
       "      <td>14467.740923</td>\n",
       "      <td>13854.281605</td>\n",
       "      <td>13877.915031</td>\n",
       "      <td>14258.322590</td>\n",
       "      <td>14374.522662</td>\n",
       "      <td>13095.882687</td>\n",
       "      <td>13198.170881</td>\n",
       "    </tr>\n",
       "    <tr>\n",
       "      <th>ABDELMOHSEN_ELAVL4_TARGETS</th>\n",
       "      <td>16059.750644</td>\n",
       "      <td>15811.362525</td>\n",
       "      <td>16212.596806</td>\n",
       "      <td>16377.358257</td>\n",
       "      <td>15998.547233</td>\n",
       "      <td>16061.926219</td>\n",
       "      <td>15983.016019</td>\n",
       "      <td>15949.143629</td>\n",
       "      <td>16079.786420</td>\n",
       "      <td>16129.003510</td>\n",
       "    </tr>\n",
       "  </tbody>\n",
       "</table>\n",
       "</div>"
      ],
      "text/plain": [
       "                                  SLK1_1        SLK2_1      SLK1PU_1  \\\n",
       "Gene Set                                                               \n",
       "ABBUD_LIF_SIGNALING_1_DN    14672.310878  14146.353955  13966.647717   \n",
       "ABBUD_LIF_SIGNALING_1_UP    13826.276157  13741.370512  13293.602837   \n",
       "ABBUD_LIF_SIGNALING_2_DN    11874.703814  11529.298048   8503.912597   \n",
       "ABBUD_LIF_SIGNALING_2_UP    14333.662019  13730.503245  14195.153702   \n",
       "ABDELMOHSEN_ELAVL4_TARGETS  16059.750644  15811.362525  16212.596806   \n",
       "\n",
       "                                SLK2PU_1       SLKP1_1       SLKP2_1  \\\n",
       "Gene Set                                                               \n",
       "ABBUD_LIF_SIGNALING_1_DN    14202.871803  14486.132267  14459.425753   \n",
       "ABBUD_LIF_SIGNALING_1_UP    13490.639202  13848.283991  13585.653482   \n",
       "ABBUD_LIF_SIGNALING_2_DN     8741.274058   9896.068191   9680.590899   \n",
       "ABBUD_LIF_SIGNALING_2_UP    14467.740923  13854.281605  13877.915031   \n",
       "ABDELMOHSEN_ELAVL4_TARGETS  16377.358257  15998.547233  16061.926219   \n",
       "\n",
       "                                  SLG1_1        SLG2_1       SLGP1_1  \\\n",
       "Gene Set                                                               \n",
       "ABBUD_LIF_SIGNALING_1_DN    14714.850979  14507.147983  14618.173382   \n",
       "ABBUD_LIF_SIGNALING_1_UP    14111.374736  13889.752153  13700.706049   \n",
       "ABBUD_LIF_SIGNALING_2_DN    11481.178243  11386.075728  11501.868586   \n",
       "ABBUD_LIF_SIGNALING_2_UP    14258.322590  14374.522662  13095.882687   \n",
       "ABDELMOHSEN_ELAVL4_TARGETS  15983.016019  15949.143629  16079.786420   \n",
       "\n",
       "                                 SLGP2_1  \n",
       "Gene Set                                  \n",
       "ABBUD_LIF_SIGNALING_1_DN    14507.758711  \n",
       "ABBUD_LIF_SIGNALING_1_UP    13698.027680  \n",
       "ABBUD_LIF_SIGNALING_2_DN    11534.150536  \n",
       "ABBUD_LIF_SIGNALING_2_UP    13198.170881  \n",
       "ABDELMOHSEN_ELAVL4_TARGETS  16129.003510  "
      ]
     },
     "execution_count": 10,
     "metadata": {},
     "output_type": "execute_result"
    },
    {
     "data": {
      "image/png": "[encoded data removed]",
      "text/plain": [
       "<matplotlib.figure.Figure at 0x7fe5bed8aac8>"
      ]
     },
     "metadata": {},
     "output_type": "display_data"
    },
    {
     "data": {
      "image/png": "[encoded data removed]",
      "text/plain": [
       "<matplotlib.figure.Figure at 0x7fe5ba697710>"
      ]
     },
     "metadata": {},
     "output_type": "display_data"
    }
   ],
   "source": [
    "gene_set_x_sample = gsea.single_sample_gsea(gene_x_sample, gene_sets, normalization='rank')\n",
    "plot.plot_heatmap(gene_set_x_sample, normalization_method='-0-', normalization_axis=0)\n",
    "plot.plot_heatmap(gene_set_x_sample, normalization_method='-0-', normalization_axis=1)\n",
    "gene_set_x_sample"
   ]
  }
 ],
 "metadata": {
  "kernelspec": {
   "display_name": "Python 3",
   "language": "python",
   "name": "python3"
  },
  "language_info": {
   "codemirror_mode": {
    "name": "ipython",
    "version": 3
   },
   "file_extension": ".py",
   "mimetype": "text/x-python",
   "name": "python",
   "nbconvert_exporter": "python",
   "pygments_lexer": "ipython3",
   "version": "3.6.0"
  }
 },
 "nbformat": 4,
 "nbformat_minor": 2
}
