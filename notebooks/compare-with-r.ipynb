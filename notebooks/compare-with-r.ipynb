{
 "cells": [
  {
   "cell_type": "code",
   "execution_count": null,
   "metadata": {
    "ExecuteTime": {
     "end_time": "2017-08-18T18:22:21.228136Z",
     "start_time": "2017-08-18T18:22:18.873486Z"
    },
    "collapsed": true
   },
   "outputs": [],
   "source": [
    "import sys\n",
    "sys.path.insert(0, '../../')\n",
    "from gsea.gsea import gsea\n",
    "from file.file import gct, gmt\n",
    "from plot.plot import plot\n",
    "\n",
    "%load_ext rpy2.ipython\n",
    "%load_ext autoreload\n",
    "%autoreload 2\n",
    "%matplotlib inline"
   ]
  },
  {
   "cell_type": "markdown",
   "metadata": {},
   "source": [
    "# Python"
   ]
  },
  {
   "cell_type": "code",
   "execution_count": null,
   "metadata": {
    "ExecuteTime": {
     "end_time": "2017-08-18T18:22:24.536314Z",
     "start_time": "2017-08-18T18:22:22.379561Z"
    },
    "scrolled": true
   },
   "outputs": [],
   "source": [
    "gene_x_sample = gct.read_gct('../data/kras_isogenic_vs_imortalized.gct')\n",
    "print(gene_x_sample.shape)\n",
    "\n",
    "gene_sets = gmt.read_gmts('../data/c2.all.v5.1.symbols.5.gmt')\n",
    "print(gene_sets.shape)\n",
    "\n",
    "gene_set_x_sample = gsea.single_sample_gsea(\n",
    "    gene_x_sample,\n",
    "    gene_sets,\n",
    "    normalization='rank',\n",
    "    power=0.75,\n",
    "    statistic='AUC')"
   ]
  },
  {
   "cell_type": "markdown",
   "metadata": {},
   "source": [
    "# R"
   ]
  },
  {
   "cell_type": "code",
   "execution_count": null,
   "metadata": {
    "ExecuteTime": {
     "start_time": "2017-08-18T18:22:48.255Z"
    },
    "scrolled": true
   },
   "outputs": [],
   "source": [
    "%R source('../../../CCBA_library.v1.2.R')"
   ]
  },
  {
   "cell_type": "code",
   "execution_count": null,
   "metadata": {
    "collapsed": true
   },
   "outputs": [],
   "source": [
    "%%R\n",
    "CCBA_ssGSEA_project_dataset.v1(\n",
    "    input.ds = '../data/kras_isogenic_vs_imortalized.gct',\n",
    "    output.ds = '../data/r-output.gct',\n",
    "    gene.set.databases = '../data/c2.all.v5.1.symbols.5.gmt',\n",
    "    weight=0.75,\n",
    ")"
   ]
  },
  {
   "cell_type": "code",
   "execution_count": null,
   "metadata": {
    "collapsed": true
   },
   "outputs": [],
   "source": [
    "gene_set_x_sample_r = gct.read_gct(\n",
    "    '../data/.gct')\n",
    "\n",
    "gene_set_x_sample_r = gene_set_x_sample_r.ix[gene_sets.index, :]"
   ]
  },
  {
   "cell_type": "markdown",
   "metadata": {},
   "source": [
    "# Compare"
   ]
  },
  {
   "cell_type": "code",
   "execution_count": null,
   "metadata": {
    "ExecuteTime": {
     "end_time": "2017-08-18T17:29:14.206840Z",
     "start_time": "2017-08-18T17:29:07.016324Z"
    },
    "scrolled": false
   },
   "outputs": [],
   "source": [
    "plot.plot_heatmap(gene_set_x_sample, annot=True)\n",
    "plot.plot_heatmap(gene_set_x_sample_r, annot=True)\n",
    "\n",
    "plot.plot_heatmap(\n",
    "    gene_set_x_sample,\n",
    "    annot=True,\n",
    "    normalization_method='-0-',\n",
    "    normalization_axis=0)\n",
    "plot.plot_heatmap(\n",
    "    gene_set_x_sample_r,\n",
    "    annot=True,\n",
    "    normalization_method='-0-',\n",
    "    normalization_axis=0)\n",
    "\n",
    "plot.plot_heatmap(\n",
    "    gene_set_x_sample,\n",
    "    annot=True,\n",
    "    normalization_method='-0-',\n",
    "    normalization_axis=1)\n",
    "plot.plot_heatmap(\n",
    "    gene_set_x_sample_r,\n",
    "    annot=True,\n",
    "    normalization_method='-0-',\n",
    "    normalization_axis=1)"
   ]
  },
  {
   "cell_type": "code",
   "execution_count": null,
   "metadata": {
    "ExecuteTime": {
     "end_time": "2017-08-18T17:29:14.357507Z",
     "start_time": "2017-08-18T17:29:14.284522Z"
    },
    "scrolled": true
   },
   "outputs": [],
   "source": [
    "gene_set_x_sample"
   ]
  },
  {
   "cell_type": "code",
   "execution_count": null,
   "metadata": {
    "ExecuteTime": {
     "end_time": "2017-08-18T17:29:14.278448Z",
     "start_time": "2017-08-18T17:29:14.209425Z"
    }
   },
   "outputs": [],
   "source": [
    "gene_set_x_sample_r"
   ]
  }
 ],
 "metadata": {
  "kernelspec": {
   "display_name": "Python 3",
   "language": "python",
   "name": "python3"
  },
  "language_info": {
   "codemirror_mode": {
    "name": "ipython",
    "version": 3
   },
   "file_extension": ".py",
   "mimetype": "text/x-python",
   "name": "python",
   "nbconvert_exporter": "python",
   "pygments_lexer": "ipython3",
   "version": "3.6.2"
  }
 },
 "nbformat": 4,
 "nbformat_minor": 2
}
